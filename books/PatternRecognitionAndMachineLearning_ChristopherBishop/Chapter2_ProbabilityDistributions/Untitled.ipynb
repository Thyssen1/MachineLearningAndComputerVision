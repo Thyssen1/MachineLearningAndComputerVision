{
 "cells": [
  {
   "cell_type": "markdown",
   "id": "d39cb26e-a0dc-4e2f-9f6f-5d5d303cf902",
   "metadata": {},
   "source": [
    "## Exercise 2.1"
   ]
  },
  {
   "cell_type": "markdown",
   "id": "d7dc59c4-0d5b-40a4-b0f6-fc1350e22983",
   "metadata": {},
   "source": [
    "Let the Bernoulli distribution be defined as:\n",
    "$p(x|\\mu) = \\text{Bern} (x|\\mu) = \\mu^{x} (1-\\mu)^{1-x}$\n",
    "\n",
    "First we see that:\n",
    "$\\sum_{x=0}^{1} p(x|\\mu) = p(0|\\mu) + p(1|\\mu) = \\mu^{0} (1-\\mu)^{(1-0)} + \\mu^{1} (1-\\mu)^{(1-1)} = 1 - \\mu + \\mu = 1$"
   ]
  },
  {
   "cell_type": "markdown",
   "id": "72998f4d-318c-458d-81de-1ddd55a0d8e4",
   "metadata": {},
   "source": [
    "Next, the expected value is:\n",
    "\n",
    "$\\mathbb{E} [X] = \\sum_{n=0}^{\\infty} x_{n} p(x_{n} | \\mu) = \\sum_{n=0}^{1} x_{n} p(x_{n} | \\mu) = $"
   ]
  },
  {
   "cell_type": "markdown",
   "id": "79906d84-32cd-4566-86a4-34e3bb3e5294",
   "metadata": {},
   "source": [
    "Finally, the variance is:\n",
    "\n",
    "$\\mathbb{V} [E] = \\mathbb{E} [X^{2}] - \\mathbb{E} [X]^{2} = \\mu - \\mu^{2} = \\mu (1-\\mu)$"
   ]
  },
  {
   "cell_type": "code",
   "execution_count": null,
   "id": "52d221d5-d456-4c53-b898-5e8050fb7916",
   "metadata": {},
   "outputs": [],
   "source": []
  }
 ],
 "metadata": {
  "kernelspec": {
   "display_name": "Python 3 (ipykernel)",
   "language": "python",
   "name": "python3"
  },
  "language_info": {
   "codemirror_mode": {
    "name": "ipython",
    "version": 3
   },
   "file_extension": ".py",
   "mimetype": "text/x-python",
   "name": "python",
   "nbconvert_exporter": "python",
   "pygments_lexer": "ipython3",
   "version": "3.11.4"
  }
 },
 "nbformat": 4,
 "nbformat_minor": 5
}
